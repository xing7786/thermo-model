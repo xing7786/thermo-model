{
 "cells": [
  {
   "cell_type": "code",
   "execution_count": 7,
   "metadata": {},
   "outputs": [
    {
     "data": {
      "text/plain": [
       "PCSAFT{BasicIdeal, Float64} with 3 components:\n",
       " \"water\"\n",
       " \"methanol\"\n",
       " \"hexane\"\n",
       "Contains parameters: Mw, segment, sigma, epsilon, epsilon_assoc, bondvol"
      ]
     },
     "metadata": {},
     "output_type": "display_data"
    }
   ],
   "source": [
    "using Clapeyron\n",
    "model = PCSAFT([\"water\",\"methanol\",\"hexane\"];userlocations=(;\n",
    "Mw = [18.015,32.042,86.18], \n",
    "segment = [2.1945,1.5255,3.0576],\n",
    "sigma = [2.229,3.23,3.7983],\n",
    "epsilon = [141.66,188.9,236.77],\n",
    "n_H=[2,1,0],\n",
    "n_e=[2,1,0],\n",
    "epsilon_assoc = Dict(\n",
    "    ((\"methanol\",\"e\"),(\"methanol\",\"H\")) =>2899.5,\n",
    "    ((\"methanol\",\"H\"),(\"water\",\"e\")) =>2351.835,\n",
    "\t((\"methanol\",\"e\"),(\"water\",\"H\")) =>2351.835,\n",
    "    ((\"water\",\"H\"),(\"water\",\"e\")) =>1804.17\n",
    "    ),\n",
    "bondvol = Dict(\n",
    "    ((\"methanol\",\"e\"),(\"methanol\",\"H\")) =>0.035176,\n",
    "    ((\"methanol\",\"H\"),(\"water\",\"e\")) =>0.080454702,\n",
    "\t((\"methanol\",\"e\"),(\"water\",\"H\")) =>0.080454702,\n",
    "    ((\"water\",\"H\"),(\"water\",\"e\")) =>0.2039\n",
    ")\n",
    "))\n"
   ]
  },
  {
   "cell_type": "code",
   "execution_count": 8,
   "metadata": {},
   "outputs": [
    {
     "data": {
      "text/plain": [
       "SpeciesFugacityCheck (generic function with 1 method)"
      ]
     },
     "metadata": {},
     "output_type": "display_data"
    }
   ],
   "source": [
    "function SpeciesFugacityCheck(model::EoSModel, T, p, x)\n",
    "    numphases, numspecies = size(x)\n",
    "    Fugacities = zeros(numphases, numspecies)\n",
    "    for i = 1:numphases\n",
    "        Fugacities[i,:] = fugacity_coefficient(model, p, T, x[i,:]) .* x[i,:] .* p\n",
    "    end  \n",
    "    RelErrorSpecies = zeros(numspecies)\n",
    "    for j = 1:numspecies\n",
    "        RelErrorSpecies[j] = (sum(abs(Fugacities[1,j] - Fugacities[i,j])/Fugacities[1,j] for i in 2:numphases))/(numphases-1)\n",
    "    end  \n",
    "    normRelError = sum(abs.(RelErrorSpecies)) / numspecies  \n",
    "    return (normRelError, RelErrorSpecies, Fugacities)\n",
    "end\n"
   ]
  },
  {
   "cell_type": "code",
   "execution_count": 9,
   "metadata": {},
   "outputs": [
    {
     "data": {
      "text/plain": [
       "(3.0992201129745475e-9, [2.840066769274575e-9, 6.455074550541373e-9, 2.519019107695468e-12], [3178.183657528801 12.59338521488834 20029.67262988092; 3178.183666555055 12.59338529617958 20029.672629830464])"
      ]
     },
     "metadata": {},
     "output_type": "display_data"
    }
   ],
   "source": [
    "N = 1000\n",
    "T = 298.15\n",
    "p = 1.013e5\n",
    "z0 = [0.4999,0.0002,0.4999]\n",
    "\n",
    "K0 = [0.001,10,1000]\n",
    "x_LLE = zeros(N,6)\n",
    "idxend = N\n",
    "(x,n,G) = tp_flash(model,p,T,z0,MichelsenTPFlash(equilibrium=:lle,K0=K0))\n",
    "(normRelError_1PC, RelErrorSpecies_1PC, Fugacities_1PC) = SpeciesFugacityCheck(model, 298.15, 1.013e5, x)\n"
   ]
  },
  {
   "cell_type": "code",
   "execution_count": 10,
   "metadata": {},
   "outputs": [
    {
     "data": {
      "text/plain": [
       "428×3 Matrix{Float64}:\n",
       " 0.989869  0.000391768  0.009739\n",
       " 0.985867  0.0043289    0.00980399\n",
       " 0.981864  0.00826428   0.00987173\n",
       " 0.97786   0.0121978    0.00994223\n",
       " 0.973855  0.0161296    0.0100155\n",
       " 0.969849  0.0200594    0.0100916\n",
       " 0.965842  0.0239872    0.0101704\n",
       " 0.961835  0.027913     0.0102521\n",
       " 0.957827  0.0318368    0.0103366\n",
       " 0.953818  0.0357584    0.0104239\n",
       " ⋮                      \n",
       " 0.998438  0.000446821  0.00111469\n",
       " 0.998508  0.000384751  0.00110747\n",
       " 0.998575  0.00032473   0.00110043\n",
       " 0.99864   0.000266705  0.00109356\n",
       " 0.998703  0.000210626  0.00108685\n",
       " 0.998763  0.000156441  0.0010803\n",
       " 0.998822  0.000104101  0.00107391\n",
       " 0.998879  5.35567e-5   0.00106768\n",
       " 0.998934  4.76055e-6   0.0010616"
      ]
     },
     "metadata": {},
     "output_type": "display_data"
    }
   ],
   "source": [
    "x_LLE[1,1:3] = x[1,:]\n",
    "x_LLE[1,4:6] = x[2,:]\n",
    "K0 = x[1,:]./x[2,:]\n",
    "z0[1] = x[1,1]/2+x[2,1]/2\n",
    "z0[2] += 2/N\n",
    "z0[3] = x[1,3]/2+x[2,3]/2\n",
    "for i in 2:N\n",
    "    global z0, K0, x_LLE, idxend\n",
    "    (x,n,G) = tp_flash(model,p,T,z0,MichelsenTPFlash(equilibrium=:lle,K0=K0))\n",
    "    x_LLE[i,1:3] = x[1,:]\n",
    "    x_LLE[i,4:6] = x[2,:]\n",
    "    K0 = x[1,:]./x[2,:]\n",
    "\n",
    "    z0 = (x_LLE[i,1:3]+x_LLE[i,4:6])-(x_LLE[i-1,1:3]+x_LLE[i-1,4:6])/2\n",
    "    if abs(x[1,1]-x[2,1]) < 1e-3\n",
    "        idxend=i-1\n",
    "        break\n",
    "    end\n",
    "end\n",
    "\n",
    "x_LLE = vcat(x_LLE[1:idxend,1:3],reverse(x_LLE[1:idxend,4:6]));\n",
    "\n"
   ]
  }
 ],
 "metadata": {
  "kernelspec": {
   "display_name": "Julia 1.8.2",
   "language": "julia",
   "name": "julia-1.8"
  },
  "language_info": {
   "file_extension": ".jl",
   "mimetype": "application/julia",
   "name": "julia",
   "version": "1.8.2"
  },
  "orig_nbformat": 4,
  "vscode": {
   "interpreter": {
    "hash": "5a09beead11d6d958849028b8b4dcc80ce6ee81f6f8a7f862328af0f33d923f8"
   }
  }
 },
 "nbformat": 4,
 "nbformat_minor": 2
}
