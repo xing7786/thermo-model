{
 "cells": [
  {
   "cell_type": "code",
   "execution_count": 6,
   "metadata": {},
   "outputs": [
    {
     "data": {
      "text/plain": [
       "PCSAFT{BasicIdeal, Float64} with 2 components:\n",
       " \"ethanol\"\n",
       " \"water\"\n",
       "Contains parameters: Mw, segment, sigma, epsilon, epsilon_assoc, bondvol"
      ]
     },
     "metadata": {},
     "output_type": "display_data"
    }
   ],
   "source": [
    "using Clapeyron\n",
    "model = PCSAFT([\"ethanol\",\"water\"];userlocations=(;\n",
    "Mw = [46.069,18.015], \n",
    "segment = [2.3827,2.1945],\n",
    "sigma = [3.1771,2.229],\n",
    "epsilon = [198.24,141.66],\n",
    "n_H=[1,2],\n",
    "n_e=[1,2],\n",
    "epsilon_assoc = Dict(\n",
    "    ((\"ethanol\",\"e\"),(\"ethanol\",\"H\")) =>2653.4,\n",
    "    ((\"ethanol\",\"H\"),(\"water\",\"e\")) =>2228.785,\n",
    "\t((\"ethanol\",\"e\"),(\"water\",\"H\")) =>2228.785,\n",
    "    ((\"water\",\"H\"),(\"water\",\"e\")) =>1804.17\n",
    "    ),\n",
    "bondvol = Dict(\n",
    "    ((\"ethanol\",\"e\"),(\"ethanol\",\"H\")) =>0.032384,\n",
    "    ((\"ethanol\",\"H\"),(\"water\",\"e\")) =>0.07753951,\n",
    "\t((\"ethanol\",\"e\"),(\"water\",\"H\")) =>0.07753951,\n",
    "    ((\"water\",\"H\"),(\"water\",\"e\")) =>0.2039\n",
    ")\n",
    "))\n"
   ]
  },
  {
   "cell_type": "code",
   "execution_count": 18,
   "metadata": {},
   "outputs": [
    {
     "data": {
      "text/plain": [
       "insert_points (generic function with 1 method)"
      ]
     },
     "metadata": {},
     "output_type": "display_data"
    }
   ],
   "source": [
    "function SpeciesFugacityCheck(model::EoSModel, T, p, x)\n",
    "    numphases, numspecies = size(x)\n",
    "    Fugacities = zeros(numphases, numspecies)\n",
    "    for i = 1:numphases\n",
    "        Fugacities[i,:] = fugacity_coefficient(model, p, T, x[i,:]) .* x[i,:] .* p\n",
    "    end  \n",
    "    RelErrorSpecies = zeros(numspecies)\n",
    "    for j = 1:numspecies\n",
    "        RelErrorSpecies[j] = (sum(abs(Fugacities[1,j] - Fugacities[i,j])/Fugacities[1,j] for i in 2:numphases))/(numphases-1)\n",
    "    end  \n",
    "    normRelError = sum(abs.(RelErrorSpecies)) / numspecies  \n",
    "    return (normRelError, RelErrorSpecies, Fugacities)\n",
    "end\n",
    "\n",
    "result=[]\n",
    "function insert_points(array)\n",
    "    result = Float64[]\n",
    "    for i in 1:length(array)-1\n",
    "        push!(result, array[i])\n",
    "        for j in 1:99\n",
    "            point = array[i] + (array[i+1] - array[i]) / 100 * j\n",
    "            push!(result, point)\n",
    "        end\n",
    "    end\n",
    "    push!(result, array[end])\n",
    "    return result\n",
    "end\n"
   ]
  },
  {
   "cell_type": "code",
   "execution_count": 19,
   "metadata": {},
   "outputs": [
    {
     "data": {
      "text/plain": [
       "1×23 Matrix{Int64}:\n",
       " 4413  4803  5203  5781  6386  7329  …  10435  10445  10457  10467  10473"
      ]
     },
     "metadata": {},
     "output_type": "display_data"
    }
   ],
   "source": [
    "T=303.15\n",
    "P=[4413 4803 5203 5781 6386 7329 8189 8723 9085 9303 9403 9663 9869 9999 10199 10341 10394 10427 10435 10445 10457 10467 10473]"
   ]
  },
  {
   "cell_type": "code",
   "execution_count": 20,
   "metadata": {},
   "outputs": [
    {
     "name": "stdout",
     "output_type": "stream",
     "text": [
      "[0.004386569243500269 0.9956134307564998; 0.03399666562770575 0.9660033343722942]\n"
     ]
    },
    {
     "data": {
      "text/plain": [
       "(1.4925390185716655e-10, [2.9717131793791923e-10, 1.3364857764138495e-12], [149.0051505027789 4247.075826721852; 149.00515045849883 4247.075826727528])"
      ]
     },
     "metadata": {},
     "output_type": "display_data"
    }
   ],
   "source": [
    "result = insert_points(P)\n",
    "ϕ = 0.5\n",
    "x_VLE = zeros(length(result),6)\n",
    "z0=0.02\n",
    "P0=P[1]\n",
    "(x,n,G) = tp_flash(model,P0,T,[z0,1-z0],MichelsenTPFlash(equilibrium=:vle,K0=[9.581,0.96]))\n",
    "println(x)\n",
    "(normRelError_1PC, RelErrorSpecies_1PC, Fugacities_1PC) = SpeciesFugacityCheck(model, T, P0, x)"
   ]
  },
  {
   "cell_type": "code",
   "execution_count": 21,
   "metadata": {},
   "outputs": [],
   "source": [
    "K0=[x[2,1]/x[1,1],x[2,2]/x[1,2]]\n",
    "z0 = x[1,1]*ϕ+x[2,1]*ϕ \n",
    "for i=1:length(result)\n",
    "\t(x,n,G) = tp_flash(model,result[i],T,[z0,1-z0],MichelsenTPFlash(equilibrium=:vle,K0=K0))\n",
    "\t(normRelError_1PC, RelErrorSpecies_1PC, Fugacities_1PC) = SpeciesFugacityCheck(model,T, result[i], x)\n",
    "\tx_VLE[i,1:2] = x[1,:]\n",
    "\tx_VLE[i,3:4] = x[2,:]\n",
    "\tx_VLE[i,5]=normRelError_1PC\n",
    "\tx_VLE[i,6] = result[i]\n",
    "\tK0=[x[2,1]/x[1,1],x[2,2]/x[1,2]]\n",
    "\tz0 = x[1,1]*ϕ+x[2,1]*ϕ     \n",
    "\tif x[2,1]-x[1,1] < 1e-3\n",
    "\t\tbreak\n",
    "\tend\n",
    "end\n"
   ]
  },
  {
   "cell_type": "code",
   "execution_count": 27,
   "metadata": {},
   "outputs": [
    {
     "name": "stdout",
     "output_type": "stream",
     "text": [
      "[0.00438656924350027, 0.017860870159970076, 0.03259543067719481, 0.05600257491057398, 0.0841463344457777, 0.13978698711931956, 0.21360768853198528, 0.28116408225340955, 0.3432216936531921, 0.38918756713533026, 0.4127282541787946, 0.4815026413329741, 0.5438329128845488, 0.5868885926321231, 0.6599602923581108, 0.7193744018696225, 0.7442506108728905, 0.7608794333469879, 0.7650761087898775, 0.7704265543905073, 0.7770153818620666, 0.7826617776121455, 0.7861244579518935]\n",
      "[0.03399666562770576, 0.12389787965969057, 0.2024863716508532, 0.29758374682049865, 0.3797786549889071, 0.4836704202802138, 0.5621249803435602, 0.606959146553133, 0.6373979338288956, 0.6564769006523654, 0.665593030111013, 0.6910401928738792, 0.7140184215163613, 0.7305638643108883, 0.7610657093829805, 0.7891357318523488, 0.8020161985786487, 0.811057072929492, 0.8133969857018526, 0.8164155257118978, 0.8201883815616018, 0.8234717019402507, 0.8255086081456441]"
     ]
    },
    {
     "name": "stdout",
     "output_type": "stream",
     "text": [
      "\n"
     ]
    }
   ],
   "source": [
    "cal=zeros(length(P),4)\n",
    "\n",
    "for i=1:length(P)\n",
    "\tcal[i,1]=x_VLE[:,1][1+100*(i-1)]\n",
    "\tcal[i,2]=x_VLE[:,3][1+100*(i-1)]\n",
    "\tcal[i,3]=x_VLE[:,5][1+100*(i-1)]\n",
    "\tcal[i,4]=x_VLE[:,6][1+100*(i-1)]\n",
    "end\n",
    "cal\n",
    "x = reduce(vcat, cal[:,1])\n",
    "y = reduce(vcat, cal[:,2])\n",
    "e = reduce(vcat, cal[:,3])\n",
    "p = reduce(vcat, cal[:,4])\n",
    "println(x)\n",
    "println(y)\n"
   ]
  }
 ],
 "metadata": {
  "kernelspec": {
   "display_name": "Julia 1.8.2",
   "language": "julia",
   "name": "julia-1.8"
  },
  "language_info": {
   "file_extension": ".jl",
   "mimetype": "application/julia",
   "name": "julia",
   "version": "1.8.2"
  },
  "orig_nbformat": 4,
  "vscode": {
   "interpreter": {
    "hash": "5a09beead11d6d958849028b8b4dcc80ce6ee81f6f8a7f862328af0f33d923f8"
   }
  }
 },
 "nbformat": 4,
 "nbformat_minor": 2
}
